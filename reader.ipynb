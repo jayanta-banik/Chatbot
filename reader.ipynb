{
 "cells": [
  {
   "cell_type": "code",
   "execution_count": 1,
   "metadata": {},
   "outputs": [],
   "source": [
    "import numpy as np\n",
    "from matplotlib import pyplot as plt"
   ]
  },
  {
   "cell_type": "code",
   "execution_count": 2,
   "metadata": {},
   "outputs": [],
   "source": [
    "with open(r'E:\\projects\\AI\\ChatBot\\Friends\\Ques.txt','r') as file:\n",
    "    ques = eval(file.read())\n",
    "with open(r'E:\\projects\\AI\\ChatBot\\Friends\\Ans.txt','r') as file:\n",
    "    anss = eval(file.read())\n",
    "with open(r'E:\\projects\\AI\\ChatBot\\Friends\\convos.txt','r') as file:\n",
    "    convos = eval(file.read())\n",
    "with open(r'E:\\projects\\AI\\ChatBot\\Friends\\encrypter.txt','r') as file:\n",
    "    encrypter = eval(file.read())\n",
    "with open(r'E:\\projects\\AI\\ChatBot\\Friends\\Openings.txt','r') as file:\n",
    "    openings = eval(file.read())"
   ]
  },
  {
   "cell_type": "code",
   "execution_count": 3,
   "metadata": {},
   "outputs": [],
   "source": [
    "lens = [len(i) for i in ques]"
   ]
  },
  {
   "cell_type": "code",
   "execution_count": 4,
   "metadata": {},
   "outputs": [
    {
     "data": {
      "text/plain": [
       "9.0"
      ]
     },
     "execution_count": 4,
     "metadata": {},
     "output_type": "execute_result"
    }
   ],
   "source": [
    "np.median(lens)"
   ]
  },
  {
   "cell_type": "code",
   "execution_count": 5,
   "metadata": {},
   "outputs": [
    {
     "data": {
      "text/plain": [
       "13.096934127540294"
      ]
     },
     "execution_count": 5,
     "metadata": {},
     "output_type": "execute_result"
    }
   ],
   "source": [
    "np.mean(lens)"
   ]
  },
  {
   "cell_type": "code",
   "execution_count": 6,
   "metadata": {},
   "outputs": [
    {
     "data": {
      "text/plain": [
       "[<matplotlib.lines.Line2D at 0x23dbc21b648>]"
      ]
     },
     "execution_count": 6,
     "metadata": {},
     "output_type": "execute_result"
    },
    {
     "data": {
      "image/png": "[encoded data removed]",
      "text/plain": [
       "<Figure size 432x288 with 1 Axes>"
      ]
     },
     "metadata": {
      "needs_background": "light"
     },
     "output_type": "display_data"
    }
   ],
   "source": [
    "plt.plot(np.unique(lens), list(map(lambda x: lens.count(x), np.unique(lens))))"
   ]
  },
  {
   "cell_type": "code",
   "execution_count": 7,
   "metadata": {},
   "outputs": [
    {
     "data": {
      "text/plain": [
       "70"
      ]
     },
     "execution_count": 7,
     "metadata": {},
     "output_type": "execute_result"
    }
   ],
   "source": [
    "lens.count(50)"
   ]
  },
  {
   "cell_type": "code",
   "execution_count": 8,
   "metadata": {},
   "outputs": [],
   "source": [
    "wordtoint = {\"<PAD>\":0} # try with 1 and 0(sparse matrix)\n",
    "for convo in convos:\n",
    "    for sens in convo:\n",
    "        for word in sens.split(' '):\n",
    "            if not (word in wordtoint):\n",
    "                wordtoint[word] = len(wordtoint)+1\n",
    "inttoword = {_v:_k for _k,_v in wordtoint.items()}"
   ]
  },
  {
   "cell_type": "code",
   "execution_count": 9,
   "metadata": {},
   "outputs": [],
   "source": [
    "encrypt = lambda word: wordtoint[word]\n",
    "decrypt = lambda word: inttoword[word]"
   ]
  },
  {
   "cell_type": "code",
   "execution_count": 10,
   "metadata": {},
   "outputs": [],
   "source": [
    "def packing_sen(sen, encry=True):\n",
    "    result = \" \"\n",
    "    if encry:\n",
    "        result = result.join(map(decrypt, sen))\n",
    "    else:\n",
    "        result = sen\n",
    "    prespace = ['\"', '$']\n",
    "    nospace  = ['-', '/']\n",
    "    postspace = ['<DOT>','!', '%', ',', '.', '?']\n",
    "    for i in prespace:\n",
    "        result = result.replace(i + ' ', i)\n",
    "    for i in nospace:\n",
    "        result = result.replace(' ' + i + ' ', i)\n",
    "    result = result.replace('...', '<DOT>')\n",
    "    for i in postspace:\n",
    "        result = result.replace(' ' + i, i)\n",
    "    result = result.replace('<DOT>', '...')\n",
    "    result = result.replace('  ', ' ')\n",
    "    return result.strip()"
   ]
  },
  {
   "cell_type": "code",
   "execution_count": 12,
   "metadata": {},
   "outputs": [
    {
     "data": {
      "text/plain": [
       "[126, 29]"
      ]
     },
     "execution_count": 12,
     "metadata": {},
     "output_type": "execute_result"
    }
   ],
   "source": [
    "ques[45]"
   ]
  },
  {
   "cell_type": "code",
   "execution_count": 16,
   "metadata": {},
   "outputs": [
    {
     "data": {
      "text/plain": [
       "['hi', '.']"
      ]
     },
     "execution_count": 16,
     "metadata": {},
     "output_type": "execute_result"
    }
   ],
   "source": [
    "list(map(decrypt, ques[45]))"
   ]
  },
  {
   "cell_type": "code",
   "execution_count": 18,
   "metadata": {},
   "outputs": [
    {
     "data": {
      "text/plain": [
       "['so',\n",
       " 'you',\n",
       " 'wanna',\n",
       " 'tell',\n",
       " 'us',\n",
       " 'now',\n",
       " ',',\n",
       " 'or',\n",
       " 'are',\n",
       " 'we',\n",
       " 'waiting',\n",
       " 'for',\n",
       " 'four',\n",
       " 'wet',\n",
       " 'bridesmaids',\n",
       " '?']"
      ]
     },
     "execution_count": 18,
     "metadata": {},
     "output_type": "execute_result"
    }
   ],
   "source": [
    "list(map(decrypt, anss[45]))"
   ]
  },
  {
   "cell_type": "code",
   "execution_count": 20,
   "metadata": {},
   "outputs": [
    {
     "data": {
      "text/plain": [
       "'so you wanna tell us now, or are we waiting for four wet bridesmaids?'"
      ]
     },
     "execution_count": 20,
     "metadata": {},
     "output_type": "execute_result"
    }
   ],
   "source": [
    "packing_sen(anss[45])"
   ]
  },
  {
   "cell_type": "code",
   "execution_count": 25,
   "metadata": {},
   "outputs": [
    {
     "data": {
      "text/plain": [
       "[109, 198, 1489, 561, 278, 1317, 449, 29]"
      ]
     },
     "execution_count": 25,
     "metadata": {},
     "output_type": "execute_result"
    }
   ],
   "source": [
    "ques[776]"
   ]
  },
  {
   "cell_type": "code",
   "execution_count": null,
   "metadata": {},
   "outputs": [],
   "source": []
  }
 ],
 "metadata": {
  "kernelspec": {
   "display_name": "Python 3",
   "language": "python",
   "name": "python3"
  },
  "language_info": {
   "codemirror_mode": {
    "name": "ipython",
    "version": 3
   },
   "file_extension": ".py",
   "mimetype": "text/x-python",
   "name": "python",
   "nbconvert_exporter": "python",
   "pygments_lexer": "ipython3",
   "version": "3.7.6"
  }
 },
 "nbformat": 4,
 "nbformat_minor": 4
}
